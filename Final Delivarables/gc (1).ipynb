{
 "cells": [
  {
   "cell_type": "markdown",
   "metadata": {},
   "source": [
    "# import the libraries."
   ]
  },
  {
   "cell_type": "code",
   "execution_count": 1,
   "metadata": {},
   "outputs": [],
   "source": [
    "import numpy as np\n",
    "import pandas as pd"
   ]
  },
  {
   "cell_type": "markdown",
   "metadata": {},
   "source": [
    "# Read the dataset"
   ]
  },
  {
   "cell_type": "code",
   "execution_count": 3,
   "metadata": {
    "id": "J8W1NCFnOaVr"
   },
   "outputs": [],
   "source": [
    "ds= pd.read_csv('fuel consumption (1).csv')"
   ]
  },
  {
   "cell_type": "code",
   "execution_count": 4,
   "metadata": {},
   "outputs": [
    {
     "data": {
      "text/html": [
       "<div>\n",
       "<style scoped>\n",
       "    .dataframe tbody tr th:only-of-type {\n",
       "        vertical-align: middle;\n",
       "    }\n",
       "\n",
       "    .dataframe tbody tr th {\n",
       "        vertical-align: top;\n",
       "    }\n",
       "\n",
       "    .dataframe thead th {\n",
       "        text-align: right;\n",
       "    }\n",
       "</style>\n",
       "<table border=\"1\" class=\"dataframe\">\n",
       "  <thead>\n",
       "    <tr style=\"text-align: right;\">\n",
       "      <th></th>\n",
       "      <th>distance</th>\n",
       "      <th>consume</th>\n",
       "      <th>speed</th>\n",
       "      <th>temp_inside</th>\n",
       "      <th>temp_outside</th>\n",
       "      <th>specials</th>\n",
       "      <th>gas_type</th>\n",
       "      <th>AC</th>\n",
       "      <th>rain</th>\n",
       "      <th>sun</th>\n",
       "      <th>refill liters</th>\n",
       "      <th>refill gas</th>\n",
       "    </tr>\n",
       "  </thead>\n",
       "  <tbody>\n",
       "    <tr>\n",
       "      <th>0</th>\n",
       "      <td>28</td>\n",
       "      <td>5</td>\n",
       "      <td>26</td>\n",
       "      <td>21,5</td>\n",
       "      <td>12</td>\n",
       "      <td>NaN</td>\n",
       "      <td>E10</td>\n",
       "      <td>0</td>\n",
       "      <td>0</td>\n",
       "      <td>0</td>\n",
       "      <td>45</td>\n",
       "      <td>E10</td>\n",
       "    </tr>\n",
       "    <tr>\n",
       "      <th>1</th>\n",
       "      <td>12</td>\n",
       "      <td>4,2</td>\n",
       "      <td>30</td>\n",
       "      <td>21,5</td>\n",
       "      <td>13</td>\n",
       "      <td>NaN</td>\n",
       "      <td>E10</td>\n",
       "      <td>0</td>\n",
       "      <td>0</td>\n",
       "      <td>0</td>\n",
       "      <td>NaN</td>\n",
       "      <td>NaN</td>\n",
       "    </tr>\n",
       "    <tr>\n",
       "      <th>2</th>\n",
       "      <td>11,2</td>\n",
       "      <td>5,5</td>\n",
       "      <td>38</td>\n",
       "      <td>21,5</td>\n",
       "      <td>15</td>\n",
       "      <td>NaN</td>\n",
       "      <td>E10</td>\n",
       "      <td>0</td>\n",
       "      <td>0</td>\n",
       "      <td>0</td>\n",
       "      <td>NaN</td>\n",
       "      <td>NaN</td>\n",
       "    </tr>\n",
       "    <tr>\n",
       "      <th>3</th>\n",
       "      <td>12,9</td>\n",
       "      <td>3,9</td>\n",
       "      <td>36</td>\n",
       "      <td>21,5</td>\n",
       "      <td>14</td>\n",
       "      <td>NaN</td>\n",
       "      <td>E10</td>\n",
       "      <td>0</td>\n",
       "      <td>0</td>\n",
       "      <td>0</td>\n",
       "      <td>NaN</td>\n",
       "      <td>NaN</td>\n",
       "    </tr>\n",
       "    <tr>\n",
       "      <th>4</th>\n",
       "      <td>18,5</td>\n",
       "      <td>4,5</td>\n",
       "      <td>46</td>\n",
       "      <td>21,5</td>\n",
       "      <td>15</td>\n",
       "      <td>NaN</td>\n",
       "      <td>E10</td>\n",
       "      <td>0</td>\n",
       "      <td>0</td>\n",
       "      <td>0</td>\n",
       "      <td>NaN</td>\n",
       "      <td>NaN</td>\n",
       "    </tr>\n",
       "  </tbody>\n",
       "</table>\n",
       "</div>"
      ],
      "text/plain": [
       "  distance consume  speed temp_inside  temp_outside specials gas_type  AC  \\\n",
       "0       28       5     26        21,5            12      NaN      E10   0   \n",
       "1       12     4,2     30        21,5            13      NaN      E10   0   \n",
       "2     11,2     5,5     38        21,5            15      NaN      E10   0   \n",
       "3     12,9     3,9     36        21,5            14      NaN      E10   0   \n",
       "4     18,5     4,5     46        21,5            15      NaN      E10   0   \n",
       "\n",
       "   rain  sun refill liters refill gas  \n",
       "0     0    0            45        E10  \n",
       "1     0    0           NaN        NaN  \n",
       "2     0    0           NaN        NaN  \n",
       "3     0    0           NaN        NaN  \n",
       "4     0    0           NaN        NaN  "
      ]
     },
     "execution_count": 4,
     "metadata": {},
     "output_type": "execute_result"
    }
   ],
   "source": [
    "ds.head()"
   ]
  },
  {
   "cell_type": "code",
   "execution_count": 5,
   "metadata": {},
   "outputs": [
    {
     "data": {
      "text/html": [
       "<div>\n",
       "<style scoped>\n",
       "    .dataframe tbody tr th:only-of-type {\n",
       "        vertical-align: middle;\n",
       "    }\n",
       "\n",
       "    .dataframe tbody tr th {\n",
       "        vertical-align: top;\n",
       "    }\n",
       "\n",
       "    .dataframe thead th {\n",
       "        text-align: right;\n",
       "    }\n",
       "</style>\n",
       "<table border=\"1\" class=\"dataframe\">\n",
       "  <thead>\n",
       "    <tr style=\"text-align: right;\">\n",
       "      <th></th>\n",
       "      <th>distance</th>\n",
       "      <th>consume</th>\n",
       "      <th>speed</th>\n",
       "      <th>temp_inside</th>\n",
       "      <th>temp_outside</th>\n",
       "      <th>specials</th>\n",
       "      <th>gas_type</th>\n",
       "      <th>AC</th>\n",
       "      <th>rain</th>\n",
       "      <th>sun</th>\n",
       "      <th>refill liters</th>\n",
       "      <th>refill gas</th>\n",
       "    </tr>\n",
       "  </thead>\n",
       "  <tbody>\n",
       "    <tr>\n",
       "      <th>383</th>\n",
       "      <td>16</td>\n",
       "      <td>3,7</td>\n",
       "      <td>39</td>\n",
       "      <td>24,5</td>\n",
       "      <td>18</td>\n",
       "      <td>NaN</td>\n",
       "      <td>SP98</td>\n",
       "      <td>0</td>\n",
       "      <td>0</td>\n",
       "      <td>0</td>\n",
       "      <td>NaN</td>\n",
       "      <td>NaN</td>\n",
       "    </tr>\n",
       "    <tr>\n",
       "      <th>384</th>\n",
       "      <td>16,1</td>\n",
       "      <td>4,3</td>\n",
       "      <td>38</td>\n",
       "      <td>25</td>\n",
       "      <td>31</td>\n",
       "      <td>AC</td>\n",
       "      <td>SP98</td>\n",
       "      <td>1</td>\n",
       "      <td>0</td>\n",
       "      <td>0</td>\n",
       "      <td>NaN</td>\n",
       "      <td>NaN</td>\n",
       "    </tr>\n",
       "    <tr>\n",
       "      <th>385</th>\n",
       "      <td>16</td>\n",
       "      <td>3,8</td>\n",
       "      <td>45</td>\n",
       "      <td>25</td>\n",
       "      <td>19</td>\n",
       "      <td>NaN</td>\n",
       "      <td>SP98</td>\n",
       "      <td>0</td>\n",
       "      <td>0</td>\n",
       "      <td>0</td>\n",
       "      <td>NaN</td>\n",
       "      <td>NaN</td>\n",
       "    </tr>\n",
       "    <tr>\n",
       "      <th>386</th>\n",
       "      <td>15,4</td>\n",
       "      <td>4,6</td>\n",
       "      <td>42</td>\n",
       "      <td>25</td>\n",
       "      <td>31</td>\n",
       "      <td>AC</td>\n",
       "      <td>SP98</td>\n",
       "      <td>1</td>\n",
       "      <td>0</td>\n",
       "      <td>0</td>\n",
       "      <td>NaN</td>\n",
       "      <td>NaN</td>\n",
       "    </tr>\n",
       "    <tr>\n",
       "      <th>387</th>\n",
       "      <td>14,7</td>\n",
       "      <td>5</td>\n",
       "      <td>25</td>\n",
       "      <td>25</td>\n",
       "      <td>30</td>\n",
       "      <td>AC</td>\n",
       "      <td>SP98</td>\n",
       "      <td>1</td>\n",
       "      <td>0</td>\n",
       "      <td>0</td>\n",
       "      <td>NaN</td>\n",
       "      <td>NaN</td>\n",
       "    </tr>\n",
       "  </tbody>\n",
       "</table>\n",
       "</div>"
      ],
      "text/plain": [
       "    distance consume  speed temp_inside  temp_outside specials gas_type  AC  \\\n",
       "383       16     3,7     39        24,5            18      NaN     SP98   0   \n",
       "384     16,1     4,3     38          25            31       AC     SP98   1   \n",
       "385       16     3,8     45          25            19      NaN     SP98   0   \n",
       "386     15,4     4,6     42          25            31       AC     SP98   1   \n",
       "387     14,7       5     25          25            30       AC     SP98   1   \n",
       "\n",
       "     rain  sun refill liters refill gas  \n",
       "383     0    0           NaN        NaN  \n",
       "384     0    0           NaN        NaN  \n",
       "385     0    0           NaN        NaN  \n",
       "386     0    0           NaN        NaN  \n",
       "387     0    0           NaN        NaN  "
      ]
     },
     "execution_count": 5,
     "metadata": {},
     "output_type": "execute_result"
    }
   ],
   "source": [
    "ds.tail()"
   ]
  },
  {
   "cell_type": "markdown",
   "metadata": {},
   "source": [
    "# checking the null values"
   ]
  },
  {
   "cell_type": "code",
   "execution_count": 29,
   "metadata": {
    "colab": {
     "base_uri": "https://localhost:8080/"
    },
    "id": "zA0Hr3uOOaaG",
    "outputId": "05a7b9d5-b1ae-4a4c-9c77-a47710777182"
   },
   "outputs": [
    {
     "data": {
      "text/plain": [
       "1057"
      ]
     },
     "execution_count": 29,
     "metadata": {},
     "output_type": "execute_result"
    }
   ],
   "source": [
    "ds.isnull().sum().sum()"
   ]
  },
  {
   "cell_type": "code",
   "execution_count": 30,
   "metadata": {
    "id": "eIhaFeFoOafI"
   },
   "outputs": [],
   "source": [
    "ds['temp_inside']=ds['temp_inside'].fillna(ds['temp_inside'].mode()[0])\n",
    "ds['specials']=ds['specials'].fillna(ds['specials'].mode()[0])\n",
    "ds['refill liters']=ds['refill liters'].fillna(ds['refill liters'].mode()[0])\n",
    "ds['refill gas']=ds['refill gas'].fillna(ds['refill gas'].mode()[0])\n"
   ]
  },
  {
   "cell_type": "code",
   "execution_count": 31,
   "metadata": {
    "colab": {
     "base_uri": "https://localhost:8080/"
    },
    "id": "XuByZoVKOaju",
    "outputId": "98692dd8-6003-434a-9c45-27562754fb6e"
   },
   "outputs": [
    {
     "data": {
      "text/plain": [
       "0"
      ]
     },
     "execution_count": 31,
     "metadata": {},
     "output_type": "execute_result"
    }
   ],
   "source": [
    "ds.isnull().sum().sum()"
   ]
  },
  {
   "cell_type": "markdown",
   "metadata": {},
   "source": [
    "# Handling the null values"
   ]
  },
  {
   "cell_type": "code",
   "execution_count": 32,
   "metadata": {
    "id": "H8ToZOEEOanp"
   },
   "outputs": [],
   "source": [
    "ds['distance'] = ds['distance'].str.replace(',', '').astype(int)\n",
    "ds['consume'] = ds['consume'].str.replace(',', '').astype(int)\n",
    "ds['temp_inside'] = ds['temp_inside'].str.replace(',', '').astype(int)\n",
    "ds['refill liters'] = ds['refill liters'].str.replace(',', '').astype(int)"
   ]
  },
  {
   "cell_type": "code",
   "execution_count": 33,
   "metadata": {
    "id": "wNVW3Cd5Oark"
   },
   "outputs": [],
   "source": [
    "ds.drop(['specials','gas_type','refill gas'],axis=1,inplace=True)"
   ]
  },
  {
   "cell_type": "code",
   "execution_count": 34,
   "metadata": {
    "id": "6AFlMtZ2Oavh"
   },
   "outputs": [],
   "source": [
    "ds=pd.get_dummies(ds,columns=['AC','rain','sun'])"
   ]
  },
  {
   "cell_type": "code",
   "execution_count": 35,
   "metadata": {
    "colab": {
     "base_uri": "https://localhost:8080/",
     "height": 206
    },
    "id": "I1IYL9TsOazM",
    "outputId": "351c9812-316b-4d6b-ae40-b8c2302dee3c"
   },
   "outputs": [
    {
     "data": {
      "text/html": [
       "\n",
       "  <div id=\"df-68b706db-ee8c-4fe4-bdde-78aa4b55ea28\">\n",
       "    <div class=\"colab-df-container\">\n",
       "      <div>\n",
       "<style scoped>\n",
       "    .dataframe tbody tr th:only-of-type {\n",
       "        vertical-align: middle;\n",
       "    }\n",
       "\n",
       "    .dataframe tbody tr th {\n",
       "        vertical-align: top;\n",
       "    }\n",
       "\n",
       "    .dataframe thead th {\n",
       "        text-align: right;\n",
       "    }\n",
       "</style>\n",
       "<table border=\"1\" class=\"dataframe\">\n",
       "  <thead>\n",
       "    <tr style=\"text-align: right;\">\n",
       "      <th></th>\n",
       "      <th>distance</th>\n",
       "      <th>consume</th>\n",
       "      <th>speed</th>\n",
       "      <th>temp_inside</th>\n",
       "      <th>temp_outside</th>\n",
       "      <th>refill liters</th>\n",
       "      <th>AC_0</th>\n",
       "      <th>AC_1</th>\n",
       "      <th>rain_0</th>\n",
       "      <th>rain_1</th>\n",
       "      <th>sun_0</th>\n",
       "      <th>sun_1</th>\n",
       "    </tr>\n",
       "  </thead>\n",
       "  <tbody>\n",
       "    <tr>\n",
       "      <th>0</th>\n",
       "      <td>28</td>\n",
       "      <td>5</td>\n",
       "      <td>26</td>\n",
       "      <td>215</td>\n",
       "      <td>12</td>\n",
       "      <td>45</td>\n",
       "      <td>1</td>\n",
       "      <td>0</td>\n",
       "      <td>1</td>\n",
       "      <td>0</td>\n",
       "      <td>1</td>\n",
       "      <td>0</td>\n",
       "    </tr>\n",
       "    <tr>\n",
       "      <th>1</th>\n",
       "      <td>12</td>\n",
       "      <td>42</td>\n",
       "      <td>30</td>\n",
       "      <td>215</td>\n",
       "      <td>13</td>\n",
       "      <td>377</td>\n",
       "      <td>1</td>\n",
       "      <td>0</td>\n",
       "      <td>1</td>\n",
       "      <td>0</td>\n",
       "      <td>1</td>\n",
       "      <td>0</td>\n",
       "    </tr>\n",
       "    <tr>\n",
       "      <th>2</th>\n",
       "      <td>112</td>\n",
       "      <td>55</td>\n",
       "      <td>38</td>\n",
       "      <td>215</td>\n",
       "      <td>15</td>\n",
       "      <td>377</td>\n",
       "      <td>1</td>\n",
       "      <td>0</td>\n",
       "      <td>1</td>\n",
       "      <td>0</td>\n",
       "      <td>1</td>\n",
       "      <td>0</td>\n",
       "    </tr>\n",
       "    <tr>\n",
       "      <th>3</th>\n",
       "      <td>129</td>\n",
       "      <td>39</td>\n",
       "      <td>36</td>\n",
       "      <td>215</td>\n",
       "      <td>14</td>\n",
       "      <td>377</td>\n",
       "      <td>1</td>\n",
       "      <td>0</td>\n",
       "      <td>1</td>\n",
       "      <td>0</td>\n",
       "      <td>1</td>\n",
       "      <td>0</td>\n",
       "    </tr>\n",
       "    <tr>\n",
       "      <th>4</th>\n",
       "      <td>185</td>\n",
       "      <td>45</td>\n",
       "      <td>46</td>\n",
       "      <td>215</td>\n",
       "      <td>15</td>\n",
       "      <td>377</td>\n",
       "      <td>1</td>\n",
       "      <td>0</td>\n",
       "      <td>1</td>\n",
       "      <td>0</td>\n",
       "      <td>1</td>\n",
       "      <td>0</td>\n",
       "    </tr>\n",
       "  </tbody>\n",
       "</table>\n",
       "</div>\n",
       "      <button class=\"colab-df-convert\" onclick=\"convertToInteractive('df-68b706db-ee8c-4fe4-bdde-78aa4b55ea28')\"\n",
       "              title=\"Convert this dataframe to an interactive table.\"\n",
       "              style=\"display:none;\">\n",
       "        \n",
       "  <svg xmlns=\"http://www.w3.org/2000/svg\" height=\"24px\"viewBox=\"0 0 24 24\"\n",
       "       width=\"24px\">\n",
       "    <path d=\"M0 0h24v24H0V0z\" fill=\"none\"/>\n",
       "    <path d=\"M18.56 5.44l.94 2.06.94-2.06 2.06-.94-2.06-.94-.94-2.06-.94 2.06-2.06.94zm-11 1L8.5 8.5l.94-2.06 2.06-.94-2.06-.94L8.5 2.5l-.94 2.06-2.06.94zm10 10l.94 2.06.94-2.06 2.06-.94-2.06-.94-.94-2.06-.94 2.06-2.06.94z\"/><path d=\"M17.41 7.96l-1.37-1.37c-.4-.4-.92-.59-1.43-.59-.52 0-1.04.2-1.43.59L10.3 9.45l-7.72 7.72c-.78.78-.78 2.05 0 2.83L4 21.41c.39.39.9.59 1.41.59.51 0 1.02-.2 1.41-.59l7.78-7.78 2.81-2.81c.8-.78.8-2.07 0-2.86zM5.41 20L4 18.59l7.72-7.72 1.47 1.35L5.41 20z\"/>\n",
       "  </svg>\n",
       "      </button>\n",
       "      \n",
       "  <style>\n",
       "    .colab-df-container {\n",
       "      display:flex;\n",
       "      flex-wrap:wrap;\n",
       "      gap: 12px;\n",
       "    }\n",
       "\n",
       "    .colab-df-convert {\n",
       "      background-color: #E8F0FE;\n",
       "      border: none;\n",
       "      border-radius: 50%;\n",
       "      cursor: pointer;\n",
       "      display: none;\n",
       "      fill: #1967D2;\n",
       "      height: 32px;\n",
       "      padding: 0 0 0 0;\n",
       "      width: 32px;\n",
       "    }\n",
       "\n",
       "    .colab-df-convert:hover {\n",
       "      background-color: #E2EBFA;\n",
       "      box-shadow: 0px 1px 2px rgba(60, 64, 67, 0.3), 0px 1px 3px 1px rgba(60, 64, 67, 0.15);\n",
       "      fill: #174EA6;\n",
       "    }\n",
       "\n",
       "    [theme=dark] .colab-df-convert {\n",
       "      background-color: #3B4455;\n",
       "      fill: #D2E3FC;\n",
       "    }\n",
       "\n",
       "    [theme=dark] .colab-df-convert:hover {\n",
       "      background-color: #434B5C;\n",
       "      box-shadow: 0px 1px 3px 1px rgba(0, 0, 0, 0.15);\n",
       "      filter: drop-shadow(0px 1px 2px rgba(0, 0, 0, 0.3));\n",
       "      fill: #FFFFFF;\n",
       "    }\n",
       "  </style>\n",
       "\n",
       "      <script>\n",
       "        const buttonEl =\n",
       "          document.querySelector('#df-68b706db-ee8c-4fe4-bdde-78aa4b55ea28 button.colab-df-convert');\n",
       "        buttonEl.style.display =\n",
       "          google.colab.kernel.accessAllowed ? 'block' : 'none';\n",
       "\n",
       "        async function convertToInteractive(key) {\n",
       "          const element = document.querySelector('#df-68b706db-ee8c-4fe4-bdde-78aa4b55ea28');\n",
       "          const dataTable =\n",
       "            await google.colab.kernel.invokeFunction('convertToInteractive',\n",
       "                                                     [key], {});\n",
       "          if (!dataTable) return;\n",
       "\n",
       "          const docLinkHtml = 'Like what you see? Visit the ' +\n",
       "            '<a target=\"_blank\" href=https://colab.research.google.com/notebooks/data_table.ipynb>data table notebook</a>'\n",
       "            + ' to learn more about interactive tables.';\n",
       "          element.innerHTML = '';\n",
       "          dataTable['output_type'] = 'display_data';\n",
       "          await google.colab.output.renderOutput(dataTable, element);\n",
       "          const docLink = document.createElement('div');\n",
       "          docLink.innerHTML = docLinkHtml;\n",
       "          element.appendChild(docLink);\n",
       "        }\n",
       "      </script>\n",
       "    </div>\n",
       "  </div>\n",
       "  "
      ],
      "text/plain": [
       "   distance  consume  speed  temp_inside  temp_outside  refill liters  AC_0  \\\n",
       "0        28        5     26          215            12             45     1   \n",
       "1        12       42     30          215            13            377     1   \n",
       "2       112       55     38          215            15            377     1   \n",
       "3       129       39     36          215            14            377     1   \n",
       "4       185       45     46          215            15            377     1   \n",
       "\n",
       "   AC_1  rain_0  rain_1  sun_0  sun_1  \n",
       "0     0       1       0      1      0  \n",
       "1     0       1       0      1      0  \n",
       "2     0       1       0      1      0  \n",
       "3     0       1       0      1      0  \n",
       "4     0       1       0      1      0  "
      ]
     },
     "execution_count": 35,
     "metadata": {},
     "output_type": "execute_result"
    }
   ],
   "source": [
    "ds.head()"
   ]
  },
  {
   "cell_type": "code",
   "execution_count": 49,
   "metadata": {
    "colab": {
     "base_uri": "https://localhost:8080/",
     "height": 206
    },
    "id": "UrC9BDMYbF_C",
    "outputId": "d4b0a648-35aa-46d1-defe-af18cf3f05df"
   },
   "outputs": [
    {
     "data": {
      "text/html": [
       "\n",
       "  <div id=\"df-0fd33122-ca28-4ef3-91bb-8142f1dae0f8\">\n",
       "    <div class=\"colab-df-container\">\n",
       "      <div>\n",
       "<style scoped>\n",
       "    .dataframe tbody tr th:only-of-type {\n",
       "        vertical-align: middle;\n",
       "    }\n",
       "\n",
       "    .dataframe tbody tr th {\n",
       "        vertical-align: top;\n",
       "    }\n",
       "\n",
       "    .dataframe thead th {\n",
       "        text-align: right;\n",
       "    }\n",
       "</style>\n",
       "<table border=\"1\" class=\"dataframe\">\n",
       "  <thead>\n",
       "    <tr style=\"text-align: right;\">\n",
       "      <th></th>\n",
       "      <th>distance</th>\n",
       "      <th>consume</th>\n",
       "      <th>speed</th>\n",
       "      <th>temp_inside</th>\n",
       "      <th>temp_outside</th>\n",
       "      <th>refill liters</th>\n",
       "      <th>AC_0</th>\n",
       "      <th>AC_1</th>\n",
       "      <th>rain_0</th>\n",
       "      <th>rain_1</th>\n",
       "      <th>sun_0</th>\n",
       "      <th>sun_1</th>\n",
       "    </tr>\n",
       "  </thead>\n",
       "  <tbody>\n",
       "    <tr>\n",
       "      <th>383</th>\n",
       "      <td>16</td>\n",
       "      <td>37</td>\n",
       "      <td>39</td>\n",
       "      <td>245</td>\n",
       "      <td>18</td>\n",
       "      <td>377</td>\n",
       "      <td>1</td>\n",
       "      <td>0</td>\n",
       "      <td>1</td>\n",
       "      <td>0</td>\n",
       "      <td>1</td>\n",
       "      <td>0</td>\n",
       "    </tr>\n",
       "    <tr>\n",
       "      <th>384</th>\n",
       "      <td>161</td>\n",
       "      <td>43</td>\n",
       "      <td>38</td>\n",
       "      <td>25</td>\n",
       "      <td>31</td>\n",
       "      <td>377</td>\n",
       "      <td>0</td>\n",
       "      <td>1</td>\n",
       "      <td>1</td>\n",
       "      <td>0</td>\n",
       "      <td>1</td>\n",
       "      <td>0</td>\n",
       "    </tr>\n",
       "    <tr>\n",
       "      <th>385</th>\n",
       "      <td>16</td>\n",
       "      <td>38</td>\n",
       "      <td>45</td>\n",
       "      <td>25</td>\n",
       "      <td>19</td>\n",
       "      <td>377</td>\n",
       "      <td>1</td>\n",
       "      <td>0</td>\n",
       "      <td>1</td>\n",
       "      <td>0</td>\n",
       "      <td>1</td>\n",
       "      <td>0</td>\n",
       "    </tr>\n",
       "    <tr>\n",
       "      <th>386</th>\n",
       "      <td>154</td>\n",
       "      <td>46</td>\n",
       "      <td>42</td>\n",
       "      <td>25</td>\n",
       "      <td>31</td>\n",
       "      <td>377</td>\n",
       "      <td>0</td>\n",
       "      <td>1</td>\n",
       "      <td>1</td>\n",
       "      <td>0</td>\n",
       "      <td>1</td>\n",
       "      <td>0</td>\n",
       "    </tr>\n",
       "    <tr>\n",
       "      <th>387</th>\n",
       "      <td>147</td>\n",
       "      <td>5</td>\n",
       "      <td>25</td>\n",
       "      <td>25</td>\n",
       "      <td>30</td>\n",
       "      <td>377</td>\n",
       "      <td>0</td>\n",
       "      <td>1</td>\n",
       "      <td>1</td>\n",
       "      <td>0</td>\n",
       "      <td>1</td>\n",
       "      <td>0</td>\n",
       "    </tr>\n",
       "  </tbody>\n",
       "</table>\n",
       "</div>\n",
       "      <button class=\"colab-df-convert\" onclick=\"convertToInteractive('df-0fd33122-ca28-4ef3-91bb-8142f1dae0f8')\"\n",
       "              title=\"Convert this dataframe to an interactive table.\"\n",
       "              style=\"display:none;\">\n",
       "        \n",
       "  <svg xmlns=\"http://www.w3.org/2000/svg\" height=\"24px\"viewBox=\"0 0 24 24\"\n",
       "       width=\"24px\">\n",
       "    <path d=\"M0 0h24v24H0V0z\" fill=\"none\"/>\n",
       "    <path d=\"M18.56 5.44l.94 2.06.94-2.06 2.06-.94-2.06-.94-.94-2.06-.94 2.06-2.06.94zm-11 1L8.5 8.5l.94-2.06 2.06-.94-2.06-.94L8.5 2.5l-.94 2.06-2.06.94zm10 10l.94 2.06.94-2.06 2.06-.94-2.06-.94-.94-2.06-.94 2.06-2.06.94z\"/><path d=\"M17.41 7.96l-1.37-1.37c-.4-.4-.92-.59-1.43-.59-.52 0-1.04.2-1.43.59L10.3 9.45l-7.72 7.72c-.78.78-.78 2.05 0 2.83L4 21.41c.39.39.9.59 1.41.59.51 0 1.02-.2 1.41-.59l7.78-7.78 2.81-2.81c.8-.78.8-2.07 0-2.86zM5.41 20L4 18.59l7.72-7.72 1.47 1.35L5.41 20z\"/>\n",
       "  </svg>\n",
       "      </button>\n",
       "      \n",
       "  <style>\n",
       "    .colab-df-container {\n",
       "      display:flex;\n",
       "      flex-wrap:wrap;\n",
       "      gap: 12px;\n",
       "    }\n",
       "\n",
       "    .colab-df-convert {\n",
       "      background-color: #E8F0FE;\n",
       "      border: none;\n",
       "      border-radius: 50%;\n",
       "      cursor: pointer;\n",
       "      display: none;\n",
       "      fill: #1967D2;\n",
       "      height: 32px;\n",
       "      padding: 0 0 0 0;\n",
       "      width: 32px;\n",
       "    }\n",
       "\n",
       "    .colab-df-convert:hover {\n",
       "      background-color: #E2EBFA;\n",
       "      box-shadow: 0px 1px 2px rgba(60, 64, 67, 0.3), 0px 1px 3px 1px rgba(60, 64, 67, 0.15);\n",
       "      fill: #174EA6;\n",
       "    }\n",
       "\n",
       "    [theme=dark] .colab-df-convert {\n",
       "      background-color: #3B4455;\n",
       "      fill: #D2E3FC;\n",
       "    }\n",
       "\n",
       "    [theme=dark] .colab-df-convert:hover {\n",
       "      background-color: #434B5C;\n",
       "      box-shadow: 0px 1px 3px 1px rgba(0, 0, 0, 0.15);\n",
       "      filter: drop-shadow(0px 1px 2px rgba(0, 0, 0, 0.3));\n",
       "      fill: #FFFFFF;\n",
       "    }\n",
       "  </style>\n",
       "\n",
       "      <script>\n",
       "        const buttonEl =\n",
       "          document.querySelector('#df-0fd33122-ca28-4ef3-91bb-8142f1dae0f8 button.colab-df-convert');\n",
       "        buttonEl.style.display =\n",
       "          google.colab.kernel.accessAllowed ? 'block' : 'none';\n",
       "\n",
       "        async function convertToInteractive(key) {\n",
       "          const element = document.querySelector('#df-0fd33122-ca28-4ef3-91bb-8142f1dae0f8');\n",
       "          const dataTable =\n",
       "            await google.colab.kernel.invokeFunction('convertToInteractive',\n",
       "                                                     [key], {});\n",
       "          if (!dataTable) return;\n",
       "\n",
       "          const docLinkHtml = 'Like what you see? Visit the ' +\n",
       "            '<a target=\"_blank\" href=https://colab.research.google.com/notebooks/data_table.ipynb>data table notebook</a>'\n",
       "            + ' to learn more about interactive tables.';\n",
       "          element.innerHTML = '';\n",
       "          dataTable['output_type'] = 'display_data';\n",
       "          await google.colab.output.renderOutput(dataTable, element);\n",
       "          const docLink = document.createElement('div');\n",
       "          docLink.innerHTML = docLinkHtml;\n",
       "          element.appendChild(docLink);\n",
       "        }\n",
       "      </script>\n",
       "    </div>\n",
       "  </div>\n",
       "  "
      ],
      "text/plain": [
       "     distance  consume  speed  temp_inside  temp_outside  refill liters  AC_0  \\\n",
       "383        16       37     39          245            18            377     1   \n",
       "384       161       43     38           25            31            377     0   \n",
       "385        16       38     45           25            19            377     1   \n",
       "386       154       46     42           25            31            377     0   \n",
       "387       147        5     25           25            30            377     0   \n",
       "\n",
       "     AC_1  rain_0  rain_1  sun_0  sun_1  \n",
       "383     0       1       0      1      0  \n",
       "384     1       1       0      1      0  \n",
       "385     0       1       0      1      0  \n",
       "386     1       1       0      1      0  \n",
       "387     1       1       0      1      0  "
      ]
     },
     "execution_count": 49,
     "metadata": {},
     "output_type": "execute_result"
    }
   ],
   "source": [
    "ds.tail()"
   ]
  },
  {
   "cell_type": "markdown",
   "metadata": {},
   "source": [
    "# separate independent and dependent null values"
   ]
  },
  {
   "cell_type": "code",
   "execution_count": 36,
   "metadata": {
    "id": "qXh0Z51YOa3F"
   },
   "outputs": [],
   "source": [
    "x=ds.drop(columns=['refill liters']).values\n",
    "y=ds['refill liters'].values"
   ]
  },
  {
   "cell_type": "markdown",
   "metadata": {},
   "source": [
    "# split the data into train and test"
   ]
  },
  {
   "cell_type": "code",
   "execution_count": 37,
   "metadata": {
    "id": "5zMts2b_Oa6c"
   },
   "outputs": [],
   "source": [
    "from sklearn.model_selection import train_test_split\n",
    "\n",
    "x_train,x_test,y_train,y_test=train_test_split(x,y,test_size=0.2)"
   ]
  },
  {
   "cell_type": "markdown",
   "metadata": {},
   "source": [
    "# Applying Linear Regrssion"
   ]
  },
  {
   "cell_type": "code",
   "execution_count": 38,
   "metadata": {
    "colab": {
     "base_uri": "https://localhost:8080/"
    },
    "id": "ApJ3NQAmOa91",
    "outputId": "933e45e2-2e34-486b-ad12-0a00501ba010"
   },
   "outputs": [
    {
     "data": {
      "text/plain": [
       "LinearRegression()"
      ]
     },
     "execution_count": 38,
     "metadata": {},
     "output_type": "execute_result"
    }
   ],
   "source": [
    "from sklearn.linear_model import LinearRegression\n",
    "MLR =LinearRegression()\n",
    "MLR.fit(x_train,y_train)"
   ]
  },
  {
   "cell_type": "code",
   "execution_count": 39,
   "metadata": {
    "colab": {
     "base_uri": "https://localhost:8080/"
    },
    "id": "5Ur_eFuMObBp",
    "outputId": "a24eb9c4-7146-45d5-fc6c-678cd04cb94b"
   },
   "outputs": [
    {
     "data": {
      "text/plain": [
       "array([371.09822453, 369.52891412, 372.81172721, 372.17946749,\n",
       "       367.34253902, 373.04517496, 378.169471  , 359.56031917,\n",
       "       366.1323778 , 371.05193345, 371.7090758 , 370.60188799,\n",
       "       375.58095768, 378.65371814, 365.11426182, 372.78673024,\n",
       "       366.37937682, 365.93791535, 383.0809985 , 374.27301898,\n",
       "       369.33066202, 367.23602709, 374.50887587, 369.80508745,\n",
       "       381.78023746, 374.42750512, 374.41547511, 380.90769184,\n",
       "       373.368048  , 369.64519702, 363.35385279, 373.40481226,\n",
       "       371.49059575, 367.54171024, 370.90121432, 373.84133764,\n",
       "       384.87074003, 365.55701603, 358.80586821, 370.33767572,\n",
       "       371.81752993, 385.11441242, 372.43301231, 356.54312481,\n",
       "       370.2118931 , 354.65478687, 370.84729778, 366.60124571,\n",
       "       376.4039182 , 363.7747951 , 367.4806127 , 341.64819923,\n",
       "       365.97343685, 365.94823951, 343.72046956, 364.70464327,\n",
       "       376.58383472, 365.80585011, 377.80125722, 356.56859994,\n",
       "       374.72932463, 365.69712801, 373.09503463, 372.80338792,\n",
       "       367.36551568, 379.50181841, 344.72155564, 348.68142322,\n",
       "       363.33181567, 366.01835646, 369.6269572 , 379.68153683,\n",
       "       366.74397281, 370.6060549 , 375.63240879, 376.13989307,\n",
       "       366.02452766, 370.41370387])"
      ]
     },
     "execution_count": 39,
     "metadata": {},
     "output_type": "execute_result"
    }
   ],
   "source": [
    "y_pred=MLR.predict(x_test)\n",
    "y_pred"
   ]
  },
  {
   "cell_type": "code",
   "execution_count": 40,
   "metadata": {
    "colab": {
     "base_uri": "https://localhost:8080/"
    },
    "id": "ZAL9FSUXObFY",
    "outputId": "1996bb3d-ff18-4e5f-a756-eac788b25406"
   },
   "outputs": [
    {
     "data": {
      "text/plain": [
       "array([358.95726197, 371.54610863, 376.51971701, 370.95857327,\n",
       "       385.51215517, 368.20670812, 368.14902045, 369.80211038,\n",
       "       366.01779735, 360.33355355, 371.01990444, 371.32256016,\n",
       "       379.52946654, 368.82281868, 377.45633415, 371.91518378,\n",
       "       356.38586393, 362.18416236, 371.35219211, 372.90247565,\n",
       "       372.11023069, 372.2190534 , 364.66369596, 369.78607335,\n",
       "       371.5715869 , 368.62779056, 373.63339547, 363.26187096,\n",
       "       372.82653999, 369.47526112, 367.07039649, 372.7401349 ,\n",
       "       386.8025232 , 378.85962382, 389.55363664, 382.52226173,\n",
       "       370.29409421, 383.51234554, 375.12116077, 375.7196025 ,\n",
       "       363.90235465, 373.54468292, 387.09112941, 355.44914043,\n",
       "       370.60966659, 379.04420604, 375.68321245, 362.60680824,\n",
       "       353.93807899, 367.79841244, 370.0905516 , 370.57979047,\n",
       "       367.31304037, 375.30224016, 367.32463126, 364.72753744,\n",
       "       370.44676224, 362.43316841, 367.63284961, 372.72006431,\n",
       "       366.54987705, 369.55566554, 348.93798675, 358.93244875,\n",
       "       378.80537318, 342.72173952, 371.40479625, 372.71014069,\n",
       "       363.35783875, 366.3779662 , 358.96113651, 357.82300497,\n",
       "       370.47249343, 378.55700775, 367.24223297, 380.96587786,\n",
       "       358.50503939, 367.7432497 , 366.16969663, 353.07130171,\n",
       "       371.42893397, 359.17728988, 370.6581425 , 367.62342951,\n",
       "       361.25842114, 375.77530468, 357.79912052, 323.07262338,\n",
       "       364.89871357, 373.79844017, 359.73990626, 370.25168679,\n",
       "       378.15575775, 366.2288763 , 367.79869323, 392.46017301,\n",
       "       379.64389585, 371.37474211, 376.11464034, 377.02104011,\n",
       "       368.83206433, 340.79328676, 382.15250466, 379.94187441,\n",
       "       376.50719304, 380.66808847, 368.56882043, 368.01081738,\n",
       "       379.31480659, 372.04470638, 380.92566934, 375.39541698,\n",
       "       371.70727673, 365.30467503, 365.41975312, 372.05372651,\n",
       "       373.46781023, 373.12089334, 378.2398432 , 384.47472799,\n",
       "       369.70653999, 384.42707794, 358.2818229 , 377.79143932,\n",
       "       362.35756437, 373.55407947, 361.98813045, 361.10421866,\n",
       "       375.84215356, 351.80605398, 368.61491195, 364.62453162,\n",
       "       374.98695346, 368.20291027, 364.01176219, 357.24299859,\n",
       "       359.84464725, 375.304046  , 375.10765131, 376.34242835,\n",
       "       373.5637371 , 367.58876357, 366.83643241, 367.71976835,\n",
       "       367.52159733, 374.0481922 , 372.23884227, 374.29710972,\n",
       "       367.05675945, 379.22456632, 376.58313324, 368.75855619,\n",
       "       371.68882628, 353.9673765 , 368.06766322, 365.49024265,\n",
       "       363.37337766, 369.13128181, 370.02178815, 379.28609356,\n",
       "       372.62944195, 369.91010049, 369.72032849, 374.01831317,\n",
       "       374.19809775, 360.0149551 , 357.17896732, 363.6995615 ,\n",
       "       369.04521027, 371.80156618, 365.1547238 , 369.96190365,\n",
       "       369.03120957, 369.74862388, 375.71720034, 353.54464696,\n",
       "       378.57454767, 366.98170512, 366.28607349, 378.46989126,\n",
       "       379.41383046, 380.57007243, 367.26115172, 373.56321403,\n",
       "       367.8472774 , 362.32132373, 374.01711657, 366.87988291,\n",
       "       370.3003986 , 355.19787798, 372.15308208, 386.02206187,\n",
       "       392.03943707, 372.60027286, 378.02837248, 398.81417103,\n",
       "       374.81938773, 364.4654862 , 375.24177278, 321.38056994,\n",
       "       381.45448519, 366.58875185, 373.24323206, 365.22293679,\n",
       "       366.13886887, 376.67162209, 376.78174736, 371.42251718,\n",
       "       382.03900446, 381.00423381, 362.01964174, 381.47163141,\n",
       "       368.52404423, 369.46147447, 369.46042516, 372.13420632,\n",
       "       366.47430242, 336.59337423, 353.90872337, 367.72641775,\n",
       "       369.9611962 , 361.74348971, 374.98965619, 365.27691648,\n",
       "       362.28884691, 373.4927727 , 364.04106687, 369.17728906,\n",
       "       372.78371546, 380.34151313, 372.13504327, 375.2004963 ,\n",
       "       370.99997808, 370.29423587, 366.01213848, 368.88033177,\n",
       "       369.25722185, 348.82049173, 362.68686227, 359.40496111,\n",
       "       378.87219381, 363.27567104, 372.11668626, 373.17393876,\n",
       "       367.54078313, 363.25223777, 362.89646586, 367.40314004,\n",
       "       366.37061906, 374.44650948, 374.73276665, 373.57767558,\n",
       "       366.58785665, 375.45339554, 323.01396673, 360.56663922,\n",
       "       364.52689946, 365.79093984, 367.78398223, 366.9284596 ,\n",
       "       364.40556066, 377.50092313, 370.38476779, 365.27047125,\n",
       "       367.60153643, 374.05335876, 371.24255319, 370.13155746,\n",
       "       364.49876818, 371.48613546, 356.13182761, 388.13476993,\n",
       "       370.61598101, 372.24876563, 366.34084139, 365.29940387,\n",
       "       367.03594367, 368.98036362, 368.72201244, 361.58220175,\n",
       "       370.21019394, 358.00950897, 381.89548534, 364.17518356,\n",
       "       351.16112248, 373.12594677, 378.47361524, 359.85589351,\n",
       "       373.91664768, 379.1002776 , 369.42673587, 367.34131023,\n",
       "       384.75664504, 366.41686022, 375.0353568 , 389.33406749,\n",
       "       382.99410981, 370.87473927, 346.63755957, 376.43939612,\n",
       "       368.32720286, 382.7610592 , 365.4456487 , 374.31656397,\n",
       "       375.42092408, 365.42065573, 374.15254853, 354.91401191,\n",
       "       371.66161828, 363.46858605])"
      ]
     },
     "execution_count": 40,
     "metadata": {},
     "output_type": "execute_result"
    }
   ],
   "source": [
    "pred=MLR.predict(x_train)\n",
    "pred"
   ]
  },
  {
   "cell_type": "code",
   "execution_count": 41,
   "metadata": {
    "colab": {
     "base_uri": "https://localhost:8080/"
    },
    "id": "tQtS3CuDObIv",
    "outputId": "2b6be6a0-cf57-4902-c21a-8da0001254e3"
   },
   "outputs": [
    {
     "data": {
      "text/plain": [
       "0.09512698789074969"
      ]
     },
     "execution_count": 41,
     "metadata": {},
     "output_type": "execute_result"
    }
   ],
   "source": [
    "from sklearn.metrics import r2_score\n",
    "\n",
    "acc=r2_score(y_test,y_pred)\n",
    "\n",
    "acc"
   ]
  },
  {
   "cell_type": "code",
   "execution_count": 42,
   "metadata": {
    "colab": {
     "base_uri": "https://localhost:8080/"
    },
    "id": "Uep6-JmvObLn",
    "outputId": "c9ceafdf-0d62-4f64-96af-5e63348f6bf0"
   },
   "outputs": [
    {
     "data": {
      "text/plain": [
       "array([377.31226895])"
      ]
     },
     "execution_count": 42,
     "metadata": {},
     "output_type": "execute_result"
    }
   ],
   "source": [
    "MLR.predict([[34,4,56,315,1,0,0,0,0,0,1]])"
   ]
  },
  {
   "cell_type": "code",
   "execution_count": 43,
   "metadata": {
    "id": "0VZSaAIdObO_"
   },
   "outputs": [],
   "source": [
    "import pickle"
   ]
  },
  {
   "cell_type": "code",
   "execution_count": 44,
   "metadata": {
    "id": "aAAexNL-RHVq"
   },
   "outputs": [],
   "source": [
    "pickle.dump(MLR,open('/content/b','wb'))"
   ]
  },
  {
   "cell_type": "code",
   "execution_count": 47,
   "metadata": {
    "id": "l8I7UIGaSVEK"
   },
   "outputs": [],
   "source": [
    "ml=pickle.load(open('f','rb'))"
   ]
  },
  {
   "cell_type": "code",
   "execution_count": 48,
   "metadata": {
    "colab": {
     "base_uri": "https://localhost:8080/"
    },
    "id": "-J7wUn48SVJZ",
    "outputId": "fcf7f16f-8e0f-482b-db4a-36c8ea2df919"
   },
   "outputs": [
    {
     "data": {
      "text/plain": [
       "array([371.09822453, 369.52891412, 372.81172721, 372.17946749,\n",
       "       367.34253902, 373.04517496, 378.169471  , 359.56031917,\n",
       "       366.1323778 , 371.05193345, 371.7090758 , 370.60188799,\n",
       "       375.58095768, 378.65371814, 365.11426182, 372.78673024,\n",
       "       366.37937682, 365.93791535, 383.0809985 , 374.27301898,\n",
       "       369.33066202, 367.23602709, 374.50887587, 369.80508745,\n",
       "       381.78023746, 374.42750512, 374.41547511, 380.90769184,\n",
       "       373.368048  , 369.64519702, 363.35385279, 373.40481226,\n",
       "       371.49059575, 367.54171024, 370.90121432, 373.84133764,\n",
       "       384.87074003, 365.55701603, 358.80586821, 370.33767572,\n",
       "       371.81752993, 385.11441242, 372.43301231, 356.54312481,\n",
       "       370.2118931 , 354.65478687, 370.84729778, 366.60124571,\n",
       "       376.4039182 , 363.7747951 , 367.4806127 , 341.64819923,\n",
       "       365.97343685, 365.94823951, 343.72046956, 364.70464327,\n",
       "       376.58383472, 365.80585011, 377.80125722, 356.56859994,\n",
       "       374.72932463, 365.69712801, 373.09503463, 372.80338792,\n",
       "       367.36551568, 379.50181841, 344.72155564, 348.68142322,\n",
       "       363.33181567, 366.01835646, 369.6269572 , 379.68153683,\n",
       "       366.74397281, 370.6060549 , 375.63240879, 376.13989307,\n",
       "       366.02452766, 370.41370387])"
      ]
     },
     "execution_count": 48,
     "metadata": {},
     "output_type": "execute_result"
    }
   ],
   "source": [
    "ml.predict(x_test)"
   ]
  }
 ],
 "metadata": {
  "colab": {
   "provenance": []
  },
  "kernelspec": {
   "display_name": "Python 3 (ipykernel)",
   "language": "python",
   "name": "python3"
  },
  "language_info": {
   "codemirror_mode": {
    "name": "ipython",
    "version": 3
   },
   "file_extension": ".py",
   "mimetype": "text/x-python",
   "name": "python",
   "nbconvert_exporter": "python",
   "pygments_lexer": "ipython3",
   "version": "3.9.7"
  }
 },
 "nbformat": 4,
 "nbformat_minor": 1
}
